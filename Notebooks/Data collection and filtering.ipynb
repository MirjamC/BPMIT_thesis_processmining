{
 "cells": [
  {
   "cell_type": "markdown",
   "metadata": {},
   "source": [
    "# Data collection and filtering"
   ]
  },
  {
   "cell_type": "markdown",
   "metadata": {},
   "source": [
    "## Import packages"
   ]
  },
  {
   "cell_type": "code",
   "execution_count": 169,
   "metadata": {},
   "outputs": [],
   "source": [
    "import pandas as pd\n",
    "import numpy as  np"
   ]
  },
  {
   "cell_type": "markdown",
   "metadata": {},
   "source": [
    "## Collecting data"
   ]
  },
  {
   "cell_type": "code",
   "execution_count": 187,
   "metadata": {},
   "outputs": [
    {
     "name": "stderr",
     "output_type": "stream",
     "text": [
      "C:\\Users\\Mirjam\\Anaconda3\\lib\\site-packages\\IPython\\core\\interactiveshell.py:3020: DtypeWarning: Columns (5,6,9,10,11,12,13,14,15,21,23,24,55,56,57,61,62,63,64,65,66,69,70,71,75,77,78,79,95,96,97,98,99,101,105,117,118,119,122,123,124,125,126) have mixed types.Specify dtype option on import or set low_memory=False.\n",
      "  interactivity=interactivity, compiler=compiler, result=result)\n"
     ]
    }
   ],
   "source": [
    "### Load dataset\n",
    "hospital_data = pd.read_csv(##insertdatapath, sep = ';')"
   ]
  },
  {
   "cell_type": "code",
   "execution_count": 188,
   "metadata": {},
   "outputs": [
    {
     "data": {
      "text/html": [
       "<div>\n",
       "<style scoped>\n",
       "    .dataframe tbody tr th:only-of-type {\n",
       "        vertical-align: middle;\n",
       "    }\n",
       "\n",
       "    .dataframe tbody tr th {\n",
       "        vertical-align: top;\n",
       "    }\n",
       "\n",
       "    .dataframe thead th {\n",
       "        text-align: right;\n",
       "    }\n",
       "</style>\n",
       "<table border=\"1\" class=\"dataframe\">\n",
       "  <thead>\n",
       "    <tr style=\"text-align: right;\">\n",
       "      <th></th>\n",
       "      <th>case:concept:name</th>\n",
       "      <th>event:concept:name</th>\n",
       "      <th>Treatment code</th>\n",
       "      <th>Producer code</th>\n",
       "      <th>Diagnosis</th>\n",
       "      <th>End date:10</th>\n",
       "      <th>End date:11</th>\n",
       "      <th>Diagnosis code</th>\n",
       "      <th>Number of executions</th>\n",
       "      <th>Start date:10</th>\n",
       "      <th>...</th>\n",
       "      <th>End date:7</th>\n",
       "      <th>End date:9</th>\n",
       "      <th>Section</th>\n",
       "      <th>End date:1</th>\n",
       "      <th>End date:2</th>\n",
       "      <th>End date:3</th>\n",
       "      <th>End date:4</th>\n",
       "      <th>End date:5</th>\n",
       "      <th>End date:6</th>\n",
       "      <th>Unnamed: 127</th>\n",
       "    </tr>\n",
       "  </thead>\n",
       "  <tbody>\n",
       "    <tr>\n",
       "      <th>0</th>\n",
       "      <td>0</td>\n",
       "      <td>1e consult poliklinisch</td>\n",
       "      <td>103.0</td>\n",
       "      <td>SRTH</td>\n",
       "      <td>maligniteit cervix</td>\n",
       "      <td>NaN</td>\n",
       "      <td>NaN</td>\n",
       "      <td>M13</td>\n",
       "      <td>1</td>\n",
       "      <td>NaN</td>\n",
       "      <td>...</td>\n",
       "      <td>NaN</td>\n",
       "      <td>NaN</td>\n",
       "      <td>Section 5</td>\n",
       "      <td>2005-01-29T23:45:36+01:00</td>\n",
       "      <td>2005-01-29T23:45:36+01:00</td>\n",
       "      <td>NaN</td>\n",
       "      <td>NaN</td>\n",
       "      <td>NaN</td>\n",
       "      <td>NaN</td>\n",
       "      <td>NaN</td>\n",
       "    </tr>\n",
       "    <tr>\n",
       "      <th>1</th>\n",
       "      <td>0</td>\n",
       "      <td>administratief tarief       - eerste pol</td>\n",
       "      <td>103.0</td>\n",
       "      <td>SRTH</td>\n",
       "      <td>maligniteit cervix</td>\n",
       "      <td>NaN</td>\n",
       "      <td>NaN</td>\n",
       "      <td>M13</td>\n",
       "      <td>1</td>\n",
       "      <td>NaN</td>\n",
       "      <td>...</td>\n",
       "      <td>NaN</td>\n",
       "      <td>NaN</td>\n",
       "      <td>Section 5</td>\n",
       "      <td>2005-01-29T23:45:36+01:00</td>\n",
       "      <td>2005-01-29T23:45:36+01:00</td>\n",
       "      <td>NaN</td>\n",
       "      <td>NaN</td>\n",
       "      <td>NaN</td>\n",
       "      <td>NaN</td>\n",
       "      <td>NaN</td>\n",
       "    </tr>\n",
       "  </tbody>\n",
       "</table>\n",
       "<p>2 rows × 128 columns</p>\n",
       "</div>"
      ],
      "text/plain": [
       "   case:concept:name                        event:concept:name  \\\n",
       "0                  0                   1e consult poliklinisch   \n",
       "1                  0  administratief tarief       - eerste pol   \n",
       "\n",
       "   Treatment code Producer code           Diagnosis End date:10 End date:11  \\\n",
       "0           103.0          SRTH  maligniteit cervix         NaN         NaN   \n",
       "1           103.0          SRTH  maligniteit cervix         NaN         NaN   \n",
       "\n",
       "  Diagnosis code  Number of executions Start date:10  ... End date:7  \\\n",
       "0            M13                     1           NaN  ...        NaN   \n",
       "1            M13                     1           NaN  ...        NaN   \n",
       "\n",
       "  End date:9    Section                 End date:1                 End date:2  \\\n",
       "0        NaN  Section 5  2005-01-29T23:45:36+01:00  2005-01-29T23:45:36+01:00   \n",
       "1        NaN  Section 5  2005-01-29T23:45:36+01:00  2005-01-29T23:45:36+01:00   \n",
       "\n",
       "  End date:3  End date:4  End date:5  End date:6  Unnamed: 127  \n",
       "0        NaN         NaN         NaN         NaN           NaN  \n",
       "1        NaN         NaN         NaN         NaN           NaN  \n",
       "\n",
       "[2 rows x 128 columns]"
      ]
     },
     "execution_count": 188,
     "metadata": {},
     "output_type": "execute_result"
    }
   ],
   "source": [
    "## Show the first two rows of the file\n",
    "hospital_data.head(2)"
   ]
  },
  {
   "cell_type": "code",
   "execution_count": 189,
   "metadata": {},
   "outputs": [
    {
     "data": {
      "text/plain": [
       "1143"
      ]
     },
     "execution_count": 189,
     "metadata": {},
     "output_type": "execute_result"
    }
   ],
   "source": [
    "## Show the number of unique cases\n",
    "hospital_data['case:concept:name'].nunique()"
   ]
  },
  {
   "cell_type": "code",
   "execution_count": 190,
   "metadata": {},
   "outputs": [
    {
     "data": {
      "text/plain": [
       "624"
      ]
     },
     "execution_count": 190,
     "metadata": {},
     "output_type": "execute_result"
    }
   ],
   "source": [
    "## Show the number of unique events\n",
    "hospital_data['event:concept:name'].nunique()"
   ]
  },
  {
   "cell_type": "code",
   "execution_count": 191,
   "metadata": {},
   "outputs": [
    {
     "data": {
      "text/plain": [
       "'2005-01-03T00:00:00+01:00'"
      ]
     },
     "execution_count": 191,
     "metadata": {},
     "output_type": "execute_result"
    }
   ],
   "source": [
    "## Start date\n",
    "hospital_data['time:timestamp'].min()"
   ]
  },
  {
   "cell_type": "code",
   "execution_count": 192,
   "metadata": {},
   "outputs": [
    {
     "data": {
      "text/plain": [
       "'2008-03-20T00:00:00+01:00'"
      ]
     },
     "execution_count": 192,
     "metadata": {},
     "output_type": "execute_result"
    }
   ],
   "source": [
    "## End date\n",
    "hospital_data['time:timestamp'].max()"
   ]
  },
  {
   "cell_type": "code",
   "execution_count": 193,
   "metadata": {},
   "outputs": [],
   "source": [
    "# making a list of all column names\n",
    "columns = []\n",
    " \n",
    "# iterating the columns\n",
    "for col in hospital_data.columns:\n",
    "    columns.append(col)\n",
    "    \n",
    "columns.sort()"
   ]
  },
  {
   "cell_type": "code",
   "execution_count": 194,
   "metadata": {},
   "outputs": [
    {
     "name": "stdout",
     "output_type": "stream",
     "text": [
      "Activity code\n",
      "Age\n",
      "Age:1\n",
      "Age:2\n",
      "Age:3\n",
      "Age:4\n",
      "Age:5\n",
      "Diagnosis\n",
      "Diagnosis Treatment Combination ID\n",
      "Diagnosis Treatment Combination ID:1\n",
      "Diagnosis Treatment Combination ID:10\n",
      "Diagnosis Treatment Combination ID:11\n",
      "Diagnosis Treatment Combination ID:12\n",
      "Diagnosis Treatment Combination ID:13\n",
      "Diagnosis Treatment Combination ID:14\n",
      "Diagnosis Treatment Combination ID:15\n",
      "Diagnosis Treatment Combination ID:2\n",
      "Diagnosis Treatment Combination ID:3\n",
      "Diagnosis Treatment Combination ID:4\n",
      "Diagnosis Treatment Combination ID:5\n",
      "Diagnosis Treatment Combination ID:6\n",
      "Diagnosis Treatment Combination ID:7\n",
      "Diagnosis Treatment Combination ID:8\n",
      "Diagnosis Treatment Combination ID:9\n",
      "Diagnosis code\n",
      "Diagnosis code:1\n",
      "Diagnosis code:10\n",
      "Diagnosis code:11\n",
      "Diagnosis code:12\n",
      "Diagnosis code:13\n",
      "Diagnosis code:14\n",
      "Diagnosis code:15\n",
      "Diagnosis code:2\n",
      "Diagnosis code:3\n",
      "Diagnosis code:4\n",
      "Diagnosis code:5\n",
      "Diagnosis code:6\n",
      "Diagnosis code:7\n",
      "Diagnosis code:8\n",
      "Diagnosis code:9\n",
      "Diagnosis:1\n",
      "Diagnosis:10\n",
      "Diagnosis:11\n",
      "Diagnosis:12\n",
      "Diagnosis:13\n",
      "Diagnosis:14\n",
      "Diagnosis:15\n",
      "Diagnosis:2\n",
      "Diagnosis:3\n",
      "Diagnosis:4\n",
      "Diagnosis:5\n",
      "Diagnosis:6\n",
      "Diagnosis:7\n",
      "Diagnosis:8\n",
      "Diagnosis:9\n",
      "End date\n",
      "End date:1\n",
      "End date:10\n",
      "End date:11\n",
      "End date:12\n",
      "End date:13\n",
      "End date:14\n",
      "End date:15\n",
      "End date:2\n",
      "End date:3\n",
      "End date:4\n",
      "End date:5\n",
      "End date:6\n",
      "End date:7\n",
      "End date:8\n",
      "End date:9\n",
      "Number of executions\n",
      "Producer code\n",
      "Section\n",
      "Specialism code\n",
      "Specialism code:1\n",
      "Specialism code:10\n",
      "Specialism code:11\n",
      "Specialism code:12\n",
      "Specialism code:13\n",
      "Specialism code:14\n",
      "Specialism code:15\n",
      "Specialism code:2\n",
      "Specialism code:3\n",
      "Specialism code:4\n",
      "Specialism code:5\n",
      "Specialism code:6\n",
      "Specialism code:7\n",
      "Specialism code:8\n",
      "Specialism code:9\n",
      "Start date\n",
      "Start date:1\n",
      "Start date:10\n",
      "Start date:11\n",
      "Start date:12\n",
      "Start date:13\n",
      "Start date:14\n",
      "Start date:15\n",
      "Start date:2\n",
      "Start date:3\n",
      "Start date:4\n",
      "Start date:5\n",
      "Start date:6\n",
      "Start date:7\n",
      "Start date:8\n",
      "Start date:9\n",
      "Treatment code\n",
      "Treatment code:1\n",
      "Treatment code:10\n",
      "Treatment code:11\n",
      "Treatment code:12\n",
      "Treatment code:13\n",
      "Treatment code:14\n",
      "Treatment code:15\n",
      "Treatment code:2\n",
      "Treatment code:3\n",
      "Treatment code:4\n",
      "Treatment code:5\n",
      "Treatment code:6\n",
      "Treatment code:7\n",
      "Treatment code:8\n",
      "Treatment code:9\n",
      "Unnamed: 127\n",
      "case:concept:name\n",
      "event:concept:name\n",
      "lifecycle:transition\n",
      "org:group\n",
      "time:timestamp\n"
     ]
    }
   ],
   "source": [
    "## Print all columns in alphabetical order\n",
    "for col in columns:\n",
    "    print(col)"
   ]
  },
  {
   "cell_type": "markdown",
   "metadata": {},
   "source": [
    "## Filtering columns"
   ]
  },
  {
   "cell_type": "markdown",
   "metadata": {},
   "source": [
    "#### Removing unnecessary columns"
   ]
  },
  {
   "cell_type": "code",
   "execution_count": 195,
   "metadata": {},
   "outputs": [],
   "source": [
    "## Create a list of all columns to keep\n",
    "nec_columns = ['case:concept:name', 'event:concept:name', 'time:timestamp', 'Activity code', 'Producer code', 'Diagnosis:1', 'Diagnosis:10', 'Diagnosis:11',\n",
    "               'Diagnosis:12', 'Diagnosis:13', 'Diagnosis:14', 'Diagnosis:15', 'Diagnosis:2', 'Diagnosis:3', 'Diagnosis:4',\n",
    "               'Diagnosis:5', 'Diagnosis:6', 'Diagnosis:7', 'Diagnosis:8', 'Diagnosis:9']\n",
    "\n",
    "## Create a list of all columns to drop\n",
    "columns_drop = list(set(columns) - set(nec_columns))"
   ]
  },
  {
   "cell_type": "code",
   "execution_count": 196,
   "metadata": {},
   "outputs": [],
   "source": [
    "## Drop the columns\n",
    "hospital_data.drop(columns=columns_drop, axis=1, inplace=True)"
   ]
  },
  {
   "cell_type": "code",
   "execution_count": 197,
   "metadata": {},
   "outputs": [
    {
     "data": {
      "text/html": [
       "<div>\n",
       "<style scoped>\n",
       "    .dataframe tbody tr th:only-of-type {\n",
       "        vertical-align: middle;\n",
       "    }\n",
       "\n",
       "    .dataframe tbody tr th {\n",
       "        vertical-align: top;\n",
       "    }\n",
       "\n",
       "    .dataframe thead th {\n",
       "        text-align: right;\n",
       "    }\n",
       "</style>\n",
       "<table border=\"1\" class=\"dataframe\">\n",
       "  <thead>\n",
       "    <tr style=\"text-align: right;\">\n",
       "      <th></th>\n",
       "      <th>case:concept:name</th>\n",
       "      <th>event:concept:name</th>\n",
       "      <th>Producer code</th>\n",
       "      <th>Activity code</th>\n",
       "      <th>Diagnosis:15</th>\n",
       "      <th>Diagnosis:14</th>\n",
       "      <th>Diagnosis:11</th>\n",
       "      <th>Diagnosis:10</th>\n",
       "      <th>Diagnosis:13</th>\n",
       "      <th>Diagnosis:12</th>\n",
       "      <th>time:timestamp</th>\n",
       "      <th>Diagnosis:8</th>\n",
       "      <th>Diagnosis:7</th>\n",
       "      <th>Diagnosis:6</th>\n",
       "      <th>Diagnosis:5</th>\n",
       "      <th>Diagnosis:4</th>\n",
       "      <th>Diagnosis:3</th>\n",
       "      <th>Diagnosis:2</th>\n",
       "      <th>Diagnosis:1</th>\n",
       "      <th>Diagnosis:9</th>\n",
       "    </tr>\n",
       "  </thead>\n",
       "  <tbody>\n",
       "    <tr>\n",
       "      <th>0</th>\n",
       "      <td>0</td>\n",
       "      <td>1e consult poliklinisch</td>\n",
       "      <td>SRTH</td>\n",
       "      <td>410100</td>\n",
       "      <td>NaN</td>\n",
       "      <td>NaN</td>\n",
       "      <td>NaN</td>\n",
       "      <td>NaN</td>\n",
       "      <td>NaN</td>\n",
       "      <td>NaN</td>\n",
       "      <td>2005-01-03T00:00:00+01:00</td>\n",
       "      <td>NaN</td>\n",
       "      <td>NaN</td>\n",
       "      <td>NaN</td>\n",
       "      <td>NaN</td>\n",
       "      <td>NaN</td>\n",
       "      <td>NaN</td>\n",
       "      <td>Gynaecologische tumoren</td>\n",
       "      <td>Gynaecologische tumoren</td>\n",
       "      <td>NaN</td>\n",
       "    </tr>\n",
       "    <tr>\n",
       "      <th>1</th>\n",
       "      <td>0</td>\n",
       "      <td>administratief tarief       - eerste pol</td>\n",
       "      <td>SRTH</td>\n",
       "      <td>419100</td>\n",
       "      <td>NaN</td>\n",
       "      <td>NaN</td>\n",
       "      <td>NaN</td>\n",
       "      <td>NaN</td>\n",
       "      <td>NaN</td>\n",
       "      <td>NaN</td>\n",
       "      <td>2005-01-03T00:00:00+01:00</td>\n",
       "      <td>NaN</td>\n",
       "      <td>NaN</td>\n",
       "      <td>NaN</td>\n",
       "      <td>NaN</td>\n",
       "      <td>NaN</td>\n",
       "      <td>NaN</td>\n",
       "      <td>Gynaecologische tumoren</td>\n",
       "      <td>Gynaecologische tumoren</td>\n",
       "      <td>NaN</td>\n",
       "    </tr>\n",
       "  </tbody>\n",
       "</table>\n",
       "</div>"
      ],
      "text/plain": [
       "   case:concept:name                        event:concept:name Producer code  \\\n",
       "0                  0                   1e consult poliklinisch          SRTH   \n",
       "1                  0  administratief tarief       - eerste pol          SRTH   \n",
       "\n",
       "  Activity code Diagnosis:15 Diagnosis:14 Diagnosis:11 Diagnosis:10  \\\n",
       "0        410100          NaN          NaN          NaN          NaN   \n",
       "1        419100          NaN          NaN          NaN          NaN   \n",
       "\n",
       "  Diagnosis:13 Diagnosis:12             time:timestamp Diagnosis:8  \\\n",
       "0          NaN          NaN  2005-01-03T00:00:00+01:00         NaN   \n",
       "1          NaN          NaN  2005-01-03T00:00:00+01:00         NaN   \n",
       "\n",
       "  Diagnosis:7 Diagnosis:6 Diagnosis:5 Diagnosis:4 Diagnosis:3  \\\n",
       "0         NaN         NaN         NaN         NaN         NaN   \n",
       "1         NaN         NaN         NaN         NaN         NaN   \n",
       "\n",
       "               Diagnosis:2              Diagnosis:1 Diagnosis:9  \n",
       "0  Gynaecologische tumoren  Gynaecologische tumoren         NaN  \n",
       "1  Gynaecologische tumoren  Gynaecologische tumoren         NaN  "
      ]
     },
     "execution_count": 197,
     "metadata": {},
     "output_type": "execute_result"
    }
   ],
   "source": [
    "hospital_data.head(2)"
   ]
  },
  {
   "cell_type": "markdown",
   "metadata": {},
   "source": [
    "#### Combine the diagnosis columns in one column"
   ]
  },
  {
   "cell_type": "code",
   "execution_count": 200,
   "metadata": {},
   "outputs": [],
   "source": [
    "## Create a list with all diagnosis columns\n",
    "diagnose_descr_columns = ['Diagnosis:1', 'Diagnosis:10', 'Diagnosis:11', 'Diagnosis:12', 'Diagnosis:13', 'Diagnosis:14', 'Diagnosis:15', 'Diagnosis:2', 'Diagnosis:3', \n",
    "                    'Diagnosis:4', 'Diagnosis:5', 'Diagnosis:6', 'Diagnosis:7', 'Diagnosis:8', 'Diagnosis:9']"
   ]
  },
  {
   "cell_type": "code",
   "execution_count": 201,
   "metadata": {},
   "outputs": [],
   "source": [
    "## Replace the value of the column 'diagnosis' with the combined values of all diagnosis columns\n",
    "hospital_data['diagnosis'] = hospital_data[diagnose_descr_columns].apply(lambda row: set(row.dropna().tolist()), axis=1)"
   ]
  },
  {
   "cell_type": "code",
   "execution_count": 202,
   "metadata": {},
   "outputs": [],
   "source": [
    "## Drop the original diagnosis columns\n",
    "hospital_data.drop(columns=diagnose_descr_columns, axis=1, inplace=True)"
   ]
  },
  {
   "cell_type": "code",
   "execution_count": 184,
   "metadata": {},
   "outputs": [
    {
     "data": {
      "text/html": [
       "<div>\n",
       "<style scoped>\n",
       "    .dataframe tbody tr th:only-of-type {\n",
       "        vertical-align: middle;\n",
       "    }\n",
       "\n",
       "    .dataframe tbody tr th {\n",
       "        vertical-align: top;\n",
       "    }\n",
       "\n",
       "    .dataframe thead th {\n",
       "        text-align: right;\n",
       "    }\n",
       "</style>\n",
       "<table border=\"1\" class=\"dataframe\">\n",
       "  <thead>\n",
       "    <tr style=\"text-align: right;\">\n",
       "      <th></th>\n",
       "      <th>case:concept:name</th>\n",
       "      <th>event:concept:name</th>\n",
       "      <th>Producer code</th>\n",
       "      <th>Activity code</th>\n",
       "      <th>Diagnosis:15</th>\n",
       "      <th>Diagnosis:14</th>\n",
       "      <th>Diagnosis:11</th>\n",
       "      <th>Diagnosis:10</th>\n",
       "      <th>Diagnosis:13</th>\n",
       "      <th>Diagnosis:12</th>\n",
       "      <th>time:timestamp</th>\n",
       "      <th>Diagnosis:8</th>\n",
       "      <th>Diagnosis:7</th>\n",
       "      <th>Diagnosis:6</th>\n",
       "      <th>Diagnosis:5</th>\n",
       "      <th>Diagnosis:4</th>\n",
       "      <th>Diagnosis:3</th>\n",
       "      <th>Diagnosis:2</th>\n",
       "      <th>Diagnosis:1</th>\n",
       "      <th>Diagnosis:9</th>\n",
       "    </tr>\n",
       "  </thead>\n",
       "  <tbody>\n",
       "    <tr>\n",
       "      <th>0</th>\n",
       "      <td>0</td>\n",
       "      <td>1e consult poliklinisch</td>\n",
       "      <td>SRTH</td>\n",
       "      <td>410100</td>\n",
       "      <td>NaN</td>\n",
       "      <td>NaN</td>\n",
       "      <td>NaN</td>\n",
       "      <td>NaN</td>\n",
       "      <td>NaN</td>\n",
       "      <td>NaN</td>\n",
       "      <td>2005-01-03T00:00:00+01:00</td>\n",
       "      <td>NaN</td>\n",
       "      <td>NaN</td>\n",
       "      <td>NaN</td>\n",
       "      <td>NaN</td>\n",
       "      <td>NaN</td>\n",
       "      <td>NaN</td>\n",
       "      <td>Gynaecologische tumoren</td>\n",
       "      <td>Gynaecologische tumoren</td>\n",
       "      <td>NaN</td>\n",
       "    </tr>\n",
       "    <tr>\n",
       "      <th>1</th>\n",
       "      <td>0</td>\n",
       "      <td>administratief tarief       - eerste pol</td>\n",
       "      <td>SRTH</td>\n",
       "      <td>419100</td>\n",
       "      <td>NaN</td>\n",
       "      <td>NaN</td>\n",
       "      <td>NaN</td>\n",
       "      <td>NaN</td>\n",
       "      <td>NaN</td>\n",
       "      <td>NaN</td>\n",
       "      <td>2005-01-03T00:00:00+01:00</td>\n",
       "      <td>NaN</td>\n",
       "      <td>NaN</td>\n",
       "      <td>NaN</td>\n",
       "      <td>NaN</td>\n",
       "      <td>NaN</td>\n",
       "      <td>NaN</td>\n",
       "      <td>Gynaecologische tumoren</td>\n",
       "      <td>Gynaecologische tumoren</td>\n",
       "      <td>NaN</td>\n",
       "    </tr>\n",
       "  </tbody>\n",
       "</table>\n",
       "</div>"
      ],
      "text/plain": [
       "   case:concept:name                        event:concept:name Producer code  \\\n",
       "0                  0                   1e consult poliklinisch          SRTH   \n",
       "1                  0  administratief tarief       - eerste pol          SRTH   \n",
       "\n",
       "  Activity code Diagnosis:15 Diagnosis:14 Diagnosis:11 Diagnosis:10  \\\n",
       "0        410100          NaN          NaN          NaN          NaN   \n",
       "1        419100          NaN          NaN          NaN          NaN   \n",
       "\n",
       "  Diagnosis:13 Diagnosis:12             time:timestamp Diagnosis:8  \\\n",
       "0          NaN          NaN  2005-01-03T00:00:00+01:00         NaN   \n",
       "1          NaN          NaN  2005-01-03T00:00:00+01:00         NaN   \n",
       "\n",
       "  Diagnosis:7 Diagnosis:6 Diagnosis:5 Diagnosis:4 Diagnosis:3  \\\n",
       "0         NaN         NaN         NaN         NaN         NaN   \n",
       "1         NaN         NaN         NaN         NaN         NaN   \n",
       "\n",
       "               Diagnosis:2              Diagnosis:1 Diagnosis:9  \n",
       "0  Gynaecologische tumoren  Gynaecologische tumoren         NaN  \n",
       "1  Gynaecologische tumoren  Gynaecologische tumoren         NaN  "
      ]
     },
     "execution_count": 184,
     "metadata": {},
     "output_type": "execute_result"
    }
   ],
   "source": [
    "hospital_data.head(2)"
   ]
  },
  {
   "cell_type": "markdown",
   "metadata": {},
   "source": [
    "## Creating a top 10 diagnosis"
   ]
  },
  {
   "cell_type": "code",
   "execution_count": 92,
   "metadata": {},
   "outputs": [],
   "source": [
    "## Collecting a set of all diagnosis\n",
    "diagnoses_list = []\n",
    "\n",
    "for index, row in hospital_data.iterrows():\n",
    "    diagnoses = row['diagnosis']\n",
    "    for diagnosis in diagnoses:\n",
    "        if diagnosis not in diagnoses_list:\n",
    "            diagnoses_list.append(diagnosis)\n",
    "    "
   ]
  },
  {
   "cell_type": "code",
   "execution_count": 93,
   "metadata": {},
   "outputs": [
    {
     "data": {
      "text/plain": [
       "119"
      ]
     },
     "execution_count": 93,
     "metadata": {},
     "output_type": "execute_result"
    }
   ],
   "source": [
    "## Display the number of unique diagnoses\n",
    "len(diagnoses_list)"
   ]
  },
  {
   "cell_type": "code",
   "execution_count": 140,
   "metadata": {},
   "outputs": [],
   "source": [
    "## Creating a dict to count the occurence of every diagnosis\n",
    "diagnoses_dict = {}\n",
    "case_list = []\n",
    "\n",
    "for index, row in hospital_data.iterrows():\n",
    "    diagnoses = row['diagnosis']\n",
    "    case = row['case:concept:name']\n",
    "    if case in case_list:\n",
    "        pass\n",
    "    else:\n",
    "        for diagnosis in diagnoses:\n",
    "            if diagnosis in diagnoses_dict:\n",
    "                diagnoses_dict[diagnosis] += 1\n",
    "            else:\n",
    "                diagnoses_dict[diagnosis] = 1\n",
    "        case_list.append(case)"
   ]
  },
  {
   "cell_type": "code",
   "execution_count": 149,
   "metadata": {},
   "outputs": [
    {
     "name": "stdout",
     "output_type": "stream",
     "text": [
      "maligniteit cervix: 277\n",
      "Gynaecologische tumoren: 252\n",
      "maligniteit ovarium | tuba: 143\n",
      "maligniteit vulva: 131\n",
      "Maligne neoplasma cervix uteri: 93\n",
      "maligniteit endometrium: 84\n",
      "Plaveiselcelca, cervix st Ib: 51\n",
      "Sereus adenoca: ovarium st IIIc: 40\n",
      "Maligne neoplasma ovarium: 24\n",
      "Adenoca: corpus uteri st Ic: 19\n"
     ]
    }
   ],
   "source": [
    "## Print the  top 10 most common diagnoses\n",
    "\n",
    "def keyfunction(k):\n",
    "    return diagnoses_dict[k]\n",
    "\n",
    "for key in sorted(diagnoses_dict, key=keyfunction, reverse=True)[:10]:\n",
    "    print(\"%s: %i\" % (key, diagnoses_dict[key]))"
   ]
  },
  {
   "cell_type": "markdown",
   "metadata": {},
   "source": [
    "## Create a subset with only the selected diagnoses"
   ]
  },
  {
   "cell_type": "code",
   "execution_count": 165,
   "metadata": {},
   "outputs": [],
   "source": [
    "## Get all cases that have the selected diagnoses\n",
    "diagnose1 = 'Plaveiselcelca, cervix st Ib'\n",
    "diagnose2 ='Plaveiselcelca, cervix st IIa'\n",
    "cases = []\n",
    "\n",
    "for index, row in hospital_data.iterrows():\n",
    "    case = row['case:concept:name']\n",
    "    diagnoses = row['diagnosis']\n",
    "    if diagnose1 in diagnoses:\n",
    "        cases.append(case)\n",
    "    elif diagnose2 in diagnoses:\n",
    "        cases.append(case)\n",
    "    else:\n",
    "        pass"
   ]
  },
  {
   "cell_type": "code",
   "execution_count": 166,
   "metadata": {},
   "outputs": [
    {
     "data": {
      "text/plain": [
       "62"
      ]
     },
     "execution_count": 166,
     "metadata": {},
     "output_type": "execute_result"
    }
   ],
   "source": [
    "cases = set(cases)\n",
    "len(cases)"
   ]
  },
  {
   "cell_type": "code",
   "execution_count": 167,
   "metadata": {},
   "outputs": [],
   "source": [
    "## Create the data frame with only the cases that contain the selected diagnoses\n",
    "diagnoses_set = hospital_data[hospital_data['case:concept:name'].isin(cases)]"
   ]
  },
  {
   "cell_type": "code",
   "execution_count": 168,
   "metadata": {},
   "outputs": [],
   "source": [
    "## Save the set\n",
    "diagnoses_set.to_csv('Data/diagnoses_set.csv')"
   ]
  }
 ],
 "metadata": {
  "kernelspec": {
   "display_name": "Python 3",
   "language": "python",
   "name": "python3"
  },
  "language_info": {
   "codemirror_mode": {
    "name": "ipython",
    "version": 3
   },
   "file_extension": ".py",
   "mimetype": "text/x-python",
   "name": "python",
   "nbconvert_exporter": "python",
   "pygments_lexer": "ipython3",
   "version": "3.7.1"
  }
 },
 "nbformat": 4,
 "nbformat_minor": 2
}
