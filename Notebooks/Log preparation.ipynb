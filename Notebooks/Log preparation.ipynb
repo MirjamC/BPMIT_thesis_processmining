{
 "cells": [
  {
   "cell_type": "markdown",
   "metadata": {},
   "source": [
    "# Log preparation"
   ]
  },
  {
   "cell_type": "markdown",
   "metadata": {},
   "source": [
    "## Import packages"
   ]
  },
  {
   "cell_type": "code",
   "execution_count": 342,
   "metadata": {},
   "outputs": [],
   "source": [
    "import pandas as pd"
   ]
  },
  {
   "cell_type": "markdown",
   "metadata": {},
   "source": [
    "## Import datasets"
   ]
  },
  {
   "cell_type": "code",
   "execution_count": 375,
   "metadata": {},
   "outputs": [],
   "source": [
    "## Log data\n",
    "diagnoses_data = pd.read_csv(##insertdataset, index_col = 0)"
   ]
  },
  {
   "cell_type": "code",
   "execution_count": 376,
   "metadata": {},
   "outputs": [
    {
     "data": {
      "text/plain": [
       "7948"
      ]
     },
     "execution_count": 376,
     "metadata": {},
     "output_type": "execute_result"
    }
   ],
   "source": [
    "len(diagnoses_data)"
   ]
  },
  {
   "cell_type": "code",
   "execution_count": 377,
   "metadata": {},
   "outputs": [],
   "source": [
    "## Conversion table\n",
    "conversion = pd.read_csv('Data/conversion_table.csv', sep = ';')"
   ]
  },
  {
   "cell_type": "markdown",
   "metadata": {},
   "source": [
    "## Add the new activity descriptions to the set"
   ]
  },
  {
   "cell_type": "code",
   "execution_count": 378,
   "metadata": {},
   "outputs": [],
   "source": [
    "## Create a key for both frames\n",
    "conversion['key'] = conversion['Activity code'] + conversion['Producer code']\n",
    "diagnoses_data['key'] = diagnoses_data['Activity code'] + diagnoses_data['Producer code']"
   ]
  },
  {
   "cell_type": "code",
   "execution_count": 379,
   "metadata": {},
   "outputs": [],
   "source": [
    "## Remove the activity code en producer columns\n",
    "columns = ['Activity code', 'Producer code']\n",
    "conversion.drop(columns=columns, axis=1, inplace=True)\n",
    "diagnoses_data.drop(columns=columns, axis=1, inplace=True)"
   ]
  },
  {
   "cell_type": "code",
   "execution_count": 380,
   "metadata": {},
   "outputs": [],
   "source": [
    "## Merge the frames together\n",
    "diagnoses_data = diagnoses_data.merge(conversion, on = 'key', how = 'left')"
   ]
  },
  {
   "cell_type": "code",
   "execution_count": 381,
   "metadata": {},
   "outputs": [],
   "source": [
    "## Drop the key column\n",
    "conversion.drop(columns=['key'], axis=1, inplace=True)\n",
    "diagnoses_data.drop(columns=['key'], axis=1, inplace=True)"
   ]
  },
  {
   "cell_type": "code",
   "execution_count": 382,
   "metadata": {},
   "outputs": [
    {
     "data": {
      "text/html": [
       "<div>\n",
       "<style scoped>\n",
       "    .dataframe tbody tr th:only-of-type {\n",
       "        vertical-align: middle;\n",
       "    }\n",
       "\n",
       "    .dataframe tbody tr th {\n",
       "        vertical-align: top;\n",
       "    }\n",
       "\n",
       "    .dataframe thead th {\n",
       "        text-align: right;\n",
       "    }\n",
       "</style>\n",
       "<table border=\"1\" class=\"dataframe\">\n",
       "  <thead>\n",
       "    <tr style=\"text-align: right;\">\n",
       "      <th></th>\n",
       "      <th>case:concept:name</th>\n",
       "      <th>event:concept:name</th>\n",
       "      <th>time:timestamp</th>\n",
       "      <th>diagnosis</th>\n",
       "      <th>new:event:concept:name</th>\n",
       "    </tr>\n",
       "  </thead>\n",
       "  <tbody>\n",
       "    <tr>\n",
       "      <th>0</th>\n",
       "      <td>177</td>\n",
       "      <td>vervolgconsult poliklinisch</td>\n",
       "      <td>2005-04-13T01:00:00+02:00</td>\n",
       "      <td>{'Plaveiselcelca, cervix st Ib', 'maligniteit ...</td>\n",
       "      <td>vervolgconsult poliklinisch</td>\n",
       "    </tr>\n",
       "    <tr>\n",
       "      <th>1</th>\n",
       "      <td>177</td>\n",
       "      <td>administratief tarief       - eerste pol</td>\n",
       "      <td>2005-04-13T01:00:00+02:00</td>\n",
       "      <td>{'Plaveiselcelca, cervix st Ib', 'maligniteit ...</td>\n",
       "      <td>administratief</td>\n",
       "    </tr>\n",
       "  </tbody>\n",
       "</table>\n",
       "</div>"
      ],
      "text/plain": [
       "   case:concept:name                        event:concept:name  \\\n",
       "0                177               vervolgconsult poliklinisch   \n",
       "1                177  administratief tarief       - eerste pol   \n",
       "\n",
       "              time:timestamp  \\\n",
       "0  2005-04-13T01:00:00+02:00   \n",
       "1  2005-04-13T01:00:00+02:00   \n",
       "\n",
       "                                           diagnosis  \\\n",
       "0  {'Plaveiselcelca, cervix st Ib', 'maligniteit ...   \n",
       "1  {'Plaveiselcelca, cervix st Ib', 'maligniteit ...   \n",
       "\n",
       "        new:event:concept:name  \n",
       "0  vervolgconsult poliklinisch  \n",
       "1               administratief  "
      ]
     },
     "execution_count": 382,
     "metadata": {},
     "output_type": "execute_result"
    }
   ],
   "source": [
    "diagnoses_data.head(2)"
   ]
  },
  {
   "cell_type": "code",
   "execution_count": 383,
   "metadata": {},
   "outputs": [
    {
     "data": {
      "text/plain": [
       "214"
      ]
     },
     "execution_count": 383,
     "metadata": {},
     "output_type": "execute_result"
    }
   ],
   "source": [
    "diagnoses_data['event:concept:name'].nunique()"
   ]
  },
  {
   "cell_type": "code",
   "execution_count": 384,
   "metadata": {},
   "outputs": [
    {
     "data": {
      "text/plain": [
       "63"
      ]
     },
     "execution_count": 384,
     "metadata": {},
     "output_type": "execute_result"
    }
   ],
   "source": [
    "diagnoses_data['new:event:concept:name'].nunique()"
   ]
  },
  {
   "cell_type": "code",
   "execution_count": 385,
   "metadata": {},
   "outputs": [],
   "source": [
    "## Delete  the old event name\n",
    "diagnoses_data = diagnoses_data[['case:concept:name', 'time:timestamp', 'diagnosis', 'new:event:concept:name']]"
   ]
  },
  {
   "cell_type": "code",
   "execution_count": 386,
   "metadata": {},
   "outputs": [],
   "source": [
    "## Keep one instance per day for every activity\n",
    "diagnoses_data = diagnoses_data.drop_duplicates()"
   ]
  },
  {
   "cell_type": "code",
   "execution_count": 387,
   "metadata": {},
   "outputs": [],
   "source": [
    "## Found out that brachytherapie and teletherapie are radiotherapy zo changing them\n",
    "diagnoses_data.loc[diagnoses_data['new:event:concept:name'] == 'brachytherapie', 'new:event:concept:name'] = 'radiotherapie'\n",
    "diagnoses_data.loc[diagnoses_data['new:event:concept:name'] == 'teletherapie', 'new:event:concept:name'] = 'radiotherapie'"
   ]
  },
  {
   "cell_type": "markdown",
   "metadata": {},
   "source": [
    "## Remove activity 'laboratoriumverrichtingen'"
   ]
  },
  {
   "cell_type": "code",
   "execution_count": 388,
   "metadata": {},
   "outputs": [],
   "source": [
    "diagnoses_data =diagnoses_data[diagnoses_data['new:event:concept:name'] != 'laboratoriumverrichtingen']"
   ]
  },
  {
   "cell_type": "markdown",
   "metadata": {},
   "source": [
    "## Remove cases without a 'Eerste consult' activity"
   ]
  },
  {
   "cell_type": "code",
   "execution_count": 389,
   "metadata": {},
   "outputs": [
    {
     "data": {
      "text/plain": [
       "105"
      ]
     },
     "execution_count": 389,
     "metadata": {},
     "output_type": "execute_result"
    }
   ],
   "source": [
    "len(diagnoses_data[diagnoses_data['new:event:concept:name'] == 'eerste consult'])"
   ]
  },
  {
   "cell_type": "code",
   "execution_count": 390,
   "metadata": {},
   "outputs": [],
   "source": [
    "## Creating a list with all cases that contain the activity first consult\n",
    "cases = []\n",
    "\n",
    "for index, row in diagnoses_data.iterrows():\n",
    "    case = row['case:concept:name']\n",
    "    event = row['new:event:concept:name']\n",
    "    if event == 'eerste consult':\n",
    "        cases.append(case)"
   ]
  },
  {
   "cell_type": "code",
   "execution_count": 391,
   "metadata": {},
   "outputs": [],
   "source": [
    "## Removing all cases without first consult from the frame\n",
    "diagnoses_data = diagnoses_data[diagnoses_data['case:concept:name'].isin(cases)]"
   ]
  },
  {
   "cell_type": "code",
   "execution_count": 392,
   "metadata": {},
   "outputs": [
    {
     "data": {
      "text/plain": [
       "55"
      ]
     },
     "execution_count": 392,
     "metadata": {},
     "output_type": "execute_result"
    }
   ],
   "source": [
    "diagnoses_data['case:concept:name'].nunique()"
   ]
  },
  {
   "cell_type": "code",
   "execution_count": 393,
   "metadata": {},
   "outputs": [
    {
     "data": {
      "text/plain": [
       "2604"
      ]
     },
     "execution_count": 393,
     "metadata": {},
     "output_type": "execute_result"
    }
   ],
   "source": [
    "len(diagnoses_data)"
   ]
  },
  {
   "cell_type": "markdown",
   "metadata": {},
   "source": [
    "## Remove all activities before the date of 'eerste consult'"
   ]
  },
  {
   "cell_type": "code",
   "execution_count": 394,
   "metadata": {},
   "outputs": [],
   "source": [
    "## We create a dataframe with only the first consult events\n",
    "first_consults = diagnoses_data.loc[diagnoses_data['new:event:concept:name'].str.contains('eerste consult')]"
   ]
  },
  {
   "cell_type": "code",
   "execution_count": 396,
   "metadata": {},
   "outputs": [],
   "source": [
    "## Keep only the consults with the earliest date in this frame\n",
    "first_consults = first_consults.groupby('case:concept:name')['time:timestamp'].agg(['first']).reset_index()"
   ]
  },
  {
   "cell_type": "code",
   "execution_count": 397,
   "metadata": {},
   "outputs": [],
   "source": [
    "first_consults = first_consults[['case:concept:name', 'first']]"
   ]
  },
  {
   "cell_type": "code",
   "execution_count": 398,
   "metadata": {},
   "outputs": [],
   "source": [
    "## We merge the first consult dates with our frame\n",
    "diagnoses_data = diagnoses_data.merge(first_consults, on = 'case:concept:name', how = 'left')"
   ]
  },
  {
   "cell_type": "code",
   "execution_count": 405,
   "metadata": {},
   "outputs": [],
   "source": [
    "diagnoses_data = diagnoses_data[diagnoses_data['time:timestamp'] >= diagnoses_data['first'] ]"
   ]
  },
  {
   "cell_type": "markdown",
   "metadata": {},
   "source": [
    "## Set first consult as artifical starting point"
   ]
  },
  {
   "cell_type": "code",
   "execution_count": 401,
   "metadata": {},
   "outputs": [],
   "source": [
    "## We use first consult as starting point, so we remain only the first consult on the first day\n",
    "diagnoses_data= diagnoses_data.drop(diagnoses_data.index[(diagnoses_data['new:event:concept:name'] == 'eerste consult') \n",
    "                                                             & (diagnoses_data['time:timestamp'] != diagnoses_data['first'])])\n"
   ]
  },
  {
   "cell_type": "code",
   "execution_count": 409,
   "metadata": {},
   "outputs": [],
   "source": [
    "## Convert timestap to datetime\n",
    "diagnoses_data['time:timestamp']= pd.to_datetime(diagnoses_data['time:timestamp'])"
   ]
  },
  {
   "cell_type": "code",
   "execution_count": 410,
   "metadata": {},
   "outputs": [],
   "source": [
    "## Set the value of first conult one hour early\n",
    "diagnoses_data.loc[diagnoses_data['new:event:concept:name'] == 'eerste consult', 'time:timestamp'] = diagnoses_data['time:timestamp'] - pd.DateOffset(days=1)"
   ]
  },
  {
   "cell_type": "code",
   "execution_count": 413,
   "metadata": {},
   "outputs": [],
   "source": [
    "### Save the dataset for further use \n",
    "diagnoses_data.to_csv('Data/final_diagnoses_set.csv')"
   ]
  }
 ],
 "metadata": {
  "kernelspec": {
   "display_name": "Python 3",
   "language": "python",
   "name": "python3"
  },
  "language_info": {
   "codemirror_mode": {
    "name": "ipython",
    "version": 3
   },
   "file_extension": ".py",
   "mimetype": "text/x-python",
   "name": "python",
   "nbconvert_exporter": "python",
   "pygments_lexer": "ipython3",
   "version": "3.7.1"
  }
 },
 "nbformat": 4,
 "nbformat_minor": 2
}
